{
 "cells": [
  {
   "cell_type": "markdown",
   "id": "70911c89",
   "metadata": {},
   "source": []
  },
  {
   "cell_type": "markdown",
   "id": "ca017239-5ae1-4657-ba5b-5a9e9dfde446",
   "metadata": {},
   "source": [
    "# Numpy "
   ]
  },
  {
   "cell_type": "code",
   "execution_count": 48,
   "id": "8c5a1d53-3bf1-4217-83ad-308c8c187233",
   "metadata": {},
   "outputs": [],
   "source": [
    "import numpy as np"
   ]
  },
  {
   "cell_type": "markdown",
   "id": "5077405c-8812-4f8c-8a98-14c0f336c639",
   "metadata": {},
   "source": [
    "#### Create an array of 10 zeroes"
   ]
  },
  {
   "cell_type": "code",
   "execution_count": 49,
   "id": "7139dc43-9eaa-45bd-bc5f-92dbf784e317",
   "metadata": {},
   "outputs": [
    {
     "data": {
      "text/plain": [
       "array([0., 0., 0., 0., 0., 0., 0., 0., 0., 0.])"
      ]
     },
     "execution_count": 49,
     "metadata": {},
     "output_type": "execute_result"
    }
   ],
   "source": [
    "np.zeros(10)"
   ]
  },
  {
   "cell_type": "markdown",
   "id": "130c4d5f-e724-4551-bd88-1c5d17567871",
   "metadata": {},
   "source": [
    "#### Create an array of 10 ones"
   ]
  },
  {
   "cell_type": "code",
   "execution_count": 50,
   "id": "1bd99565-d710-4dc6-ba48-90fcf27054b1",
   "metadata": {},
   "outputs": [
    {
     "data": {
      "text/plain": [
       "array([1., 1., 1., 1., 1., 1., 1., 1., 1., 1.])"
      ]
     },
     "execution_count": 50,
     "metadata": {},
     "output_type": "execute_result"
    }
   ],
   "source": [
    "np.ones(10)"
   ]
  },
  {
   "cell_type": "markdown",
   "id": "dfe3d0e5-b45e-433f-b629-27c6e6229ab6",
   "metadata": {},
   "source": [
    "#### Create an array of 10 fives"
   ]
  },
  {
   "cell_type": "code",
   "execution_count": 51,
   "id": "e33bb70b-2132-44cf-b984-eeba813cd03d",
   "metadata": {},
   "outputs": [
    {
     "data": {
      "text/plain": [
       "array([5., 5., 5., 5., 5., 5., 5., 5., 5., 5.])"
      ]
     },
     "execution_count": 51,
     "metadata": {},
     "output_type": "execute_result"
    }
   ],
   "source": [
    "np.ones(10)*5"
   ]
  },
  {
   "cell_type": "markdown",
   "id": "ed66bd8f-62c2-45fc-8e86-8aeb29a733f9",
   "metadata": {},
   "source": [
    "#### Create an Array of integers 10 - 50"
   ]
  },
  {
   "cell_type": "code",
   "execution_count": 52,
   "id": "600e0b77-1769-48a4-ae3d-edd6c79ddfcd",
   "metadata": {},
   "outputs": [
    {
     "data": {
      "text/plain": [
       "array([10, 11, 12, 13, 14, 15, 16, 17, 18, 19, 20, 21, 22, 23, 24, 25, 26,\n",
       "       27, 28, 29, 30, 31, 32, 33, 34, 35, 36, 37, 38, 39, 40, 41, 42, 43,\n",
       "       44, 45, 46, 47, 48, 49, 50])"
      ]
     },
     "execution_count": 52,
     "metadata": {},
     "output_type": "execute_result"
    }
   ],
   "source": [
    "np.arange(10,51)"
   ]
  },
  {
   "cell_type": "markdown",
   "id": "8db34ad7-2dde-434d-9763-58c8da1e6b07",
   "metadata": {},
   "source": [
    "#### Create an Array of all the even integers 10 - 50"
   ]
  },
  {
   "cell_type": "code",
   "execution_count": 53,
   "id": "12ed913a-4266-4f6f-8d0b-983389684774",
   "metadata": {},
   "outputs": [
    {
     "data": {
      "text/plain": [
       "array([10, 12, 14, 16, 18, 20, 22, 24, 26, 28, 30, 32, 34, 36, 38, 40, 42,\n",
       "       44, 46, 48, 50])"
      ]
     },
     "execution_count": 53,
     "metadata": {},
     "output_type": "execute_result"
    }
   ],
   "source": [
    "np.arange(10,51,2)"
   ]
  },
  {
   "cell_type": "markdown",
   "id": "dc5d9621-5a5e-434a-906b-32b8ce84389a",
   "metadata": {},
   "source": [
    "#### Create a 3x3 Matrix ranging from 0 - 8"
   ]
  },
  {
   "cell_type": "code",
   "execution_count": 54,
   "id": "57c8fcea-8660-475e-a298-96605b8d727c",
   "metadata": {},
   "outputs": [
    {
     "data": {
      "text/plain": [
       "array([[0, 1, 2],\n",
       "       [3, 4, 5],\n",
       "       [6, 7, 8]])"
      ]
     },
     "execution_count": 54,
     "metadata": {},
     "output_type": "execute_result"
    }
   ],
   "source": [
    "np.arange(9).reshape(3,3)"
   ]
  },
  {
   "cell_type": "markdown",
   "id": "56dabf4d-270e-428b-9642-b0c3896f3f7c",
   "metadata": {},
   "source": [
    "#### Create a 3x3 Identity matrix"
   ]
  },
  {
   "cell_type": "code",
   "execution_count": 55,
   "id": "4e1eea31-1529-4070-978c-1a5097d8053f",
   "metadata": {},
   "outputs": [
    {
     "data": {
      "text/plain": [
       "array([[1., 0., 0.],\n",
       "       [0., 1., 0.],\n",
       "       [0., 0., 1.]])"
      ]
     },
     "execution_count": 55,
     "metadata": {},
     "output_type": "execute_result"
    }
   ],
   "source": [
    "np.eye(3)"
   ]
  },
  {
   "cell_type": "markdown",
   "id": "0ed0d6c1-a612-45a5-8ea4-9179833591ce",
   "metadata": {},
   "source": [
    "#### Use numpy to generate a random number between 0 and 1"
   ]
  },
  {
   "cell_type": "code",
   "execution_count": 56,
   "id": "8881945a-33fb-4db5-8097-8ea0e75725e9",
   "metadata": {},
   "outputs": [
    {
     "data": {
      "text/plain": [
       "array([0.96042307])"
      ]
     },
     "execution_count": 56,
     "metadata": {},
     "output_type": "execute_result"
    }
   ],
   "source": [
    "arr = np.random.rand(1)\n",
    "arr"
   ]
  },
  {
   "cell_type": "markdown",
   "id": "acc21309-0712-446d-9667-da6533526c32",
   "metadata": {},
   "source": [
    "#### Use numpy to generate an array of 25 random numbers sampled from a standard normal distribution"
   ]
  },
  {
   "cell_type": "code",
   "execution_count": 57,
   "id": "7b3a15fd-6c93-4432-9488-f457ce2a2b8c",
   "metadata": {},
   "outputs": [
    {
     "data": {
      "text/plain": [
       "array([ 2.1518596 ,  1.39374147,  1.92778508, -0.97476015,  0.83819939,\n",
       "       -0.5633357 ,  0.60394657,  0.41620711, -0.60242784,  1.28809026,\n",
       "        0.3373137 , -0.27377409, -0.30595684,  0.47370674, -0.45895434,\n",
       "        0.77628665, -0.43332051, -1.03647539, -0.04687929,  0.69816816,\n",
       "        1.50425213,  0.37864003, -1.11638827, -0.15893876,  1.30293016])"
      ]
     },
     "execution_count": 57,
     "metadata": {},
     "output_type": "execute_result"
    }
   ],
   "source": [
    "np.random.randn(25)"
   ]
  },
  {
   "cell_type": "markdown",
   "id": "aea02277-4f97-4c56-a60b-911bebd77487",
   "metadata": {},
   "source": [
    "#### Create the following matrix"
   ]
  },
  {
   "cell_type": "code",
   "execution_count": 58,
   "id": "16033910-856f-4eab-8e6b-e3975515f5cc",
   "metadata": {},
   "outputs": [
    {
     "data": {
      "text/plain": [
       "array([0.01, 0.02, 0.03, 0.04, 0.05, 0.06, 0.07, 0.08, 0.09, 0.1 , 0.11,\n",
       "       0.12, 0.13, 0.14, 0.15, 0.16, 0.17, 0.18, 0.19, 0.2 , 0.21, 0.22,\n",
       "       0.23, 0.24, 0.25, 0.26, 0.27, 0.28, 0.29, 0.3 , 0.31, 0.32, 0.33,\n",
       "       0.34, 0.35, 0.36, 0.37, 0.38, 0.39, 0.4 , 0.41, 0.42, 0.43, 0.44,\n",
       "       0.45, 0.46, 0.47, 0.48, 0.49, 0.5 , 0.51, 0.52, 0.53, 0.54, 0.55,\n",
       "       0.56, 0.57, 0.58, 0.59, 0.6 , 0.61, 0.62, 0.63, 0.64, 0.65, 0.66,\n",
       "       0.67, 0.68, 0.69, 0.7 , 0.71, 0.72, 0.73, 0.74, 0.75, 0.76, 0.77,\n",
       "       0.78, 0.79, 0.8 , 0.81, 0.82, 0.83, 0.84, 0.85, 0.86, 0.87, 0.88,\n",
       "       0.89, 0.9 , 0.91, 0.92, 0.93, 0.94, 0.95, 0.96, 0.97, 0.98, 0.99,\n",
       "       1.  ])"
      ]
     },
     "execution_count": 58,
     "metadata": {},
     "output_type": "execute_result"
    }
   ],
   "source": [
    "np.arange(1,101)/100\n",
    "np.linspace(0.01,1,100)"
   ]
  },
  {
   "cell_type": "markdown",
   "id": "86d59c27-37b1-4c07-8637-01c1a58dd044",
   "metadata": {},
   "source": [
    "#### Create an array of 20 linearly spaced points between 0 and 1"
   ]
  },
  {
   "cell_type": "code",
   "execution_count": 59,
   "id": "1d9282b2-f2ef-4153-b856-459cc8f67da5",
   "metadata": {},
   "outputs": [
    {
     "data": {
      "text/plain": [
       "array([0.        , 0.05263158, 0.10526316, 0.15789474, 0.21052632,\n",
       "       0.26315789, 0.31578947, 0.36842105, 0.42105263, 0.47368421,\n",
       "       0.52631579, 0.57894737, 0.63157895, 0.68421053, 0.73684211,\n",
       "       0.78947368, 0.84210526, 0.89473684, 0.94736842, 1.        ])"
      ]
     },
     "execution_count": 59,
     "metadata": {},
     "output_type": "execute_result"
    }
   ],
   "source": [
    "np.linspace(0,1,20)"
   ]
  },
  {
   "cell_type": "code",
   "execution_count": 60,
   "id": "69e77528-2ac9-47a6-923e-44e44dec8bfd",
   "metadata": {},
   "outputs": [
    {
     "data": {
      "text/plain": [
       "array([[ 1,  2,  3,  4,  5],\n",
       "       [ 6,  7,  8,  9, 10],\n",
       "       [11, 12, 13, 14, 15],\n",
       "       [16, 17, 18, 19, 20],\n",
       "       [21, 22, 23, 24, 25]])"
      ]
     },
     "execution_count": 60,
     "metadata": {},
     "output_type": "execute_result"
    }
   ],
   "source": [
    "arr = np.arange(1,26).reshape(5,5)\n",
    "arr"
   ]
  },
  {
   "cell_type": "code",
   "execution_count": 61,
   "id": "b50e84ff-2115-4d86-96c6-cbd1d1da4acd",
   "metadata": {},
   "outputs": [
    {
     "data": {
      "text/plain": [
       "array([[12, 13, 14, 15],\n",
       "       [17, 18, 19, 20],\n",
       "       [22, 23, 24, 25]])"
      ]
     },
     "execution_count": 61,
     "metadata": {},
     "output_type": "execute_result"
    }
   ],
   "source": [
    "arr[2:,1:]\n",
    "# mat = (arr[0:4], arr[5:9], arr[10:15])\n",
    "# mat"
   ]
  },
  {
   "cell_type": "code",
   "execution_count": 62,
   "id": "45713dfa-fdb3-4408-82ba-9254d13efee7",
   "metadata": {},
   "outputs": [
    {
     "data": {
      "text/plain": [
       "array([[ 8,  9, 10],\n",
       "       [13, 14, 15],\n",
       "       [18, 19, 20],\n",
       "       [23, 24, 25]])"
      ]
     },
     "execution_count": 62,
     "metadata": {},
     "output_type": "execute_result"
    }
   ],
   "source": [
    "arr[1:,2:] #[row-start:row-end,col]"
   ]
  },
  {
   "cell_type": "code",
   "execution_count": 63,
   "id": "4672a37d-b23a-4ffb-a63a-83e87a7a1c95",
   "metadata": {},
   "outputs": [
    {
     "data": {
      "text/plain": [
       "array([20])"
      ]
     },
     "execution_count": 63,
     "metadata": {},
     "output_type": "execute_result"
    }
   ],
   "source": [
    "arr = np.arange(1,26).reshape(5,5)\n",
    "arr[3:4,4]"
   ]
  },
  {
   "cell_type": "code",
   "execution_count": 64,
   "id": "aa403287-6d5b-4ff0-9994-89952faee784",
   "metadata": {},
   "outputs": [
    {
     "data": {
      "text/plain": [
       "array([[ 2],\n",
       "       [ 7],\n",
       "       [12]])"
      ]
     },
     "execution_count": 64,
     "metadata": {},
     "output_type": "execute_result"
    }
   ],
   "source": [
    "arr[0:3,1:2]"
   ]
  },
  {
   "cell_type": "code",
   "execution_count": 65,
   "id": "c75df33f-21d6-4018-903b-417b331814bf",
   "metadata": {},
   "outputs": [
    {
     "data": {
      "text/plain": [
       "array([[ 1,  2,  3,  4],\n",
       "       [ 5,  6,  7,  8],\n",
       "       [ 9, 10, 11, 12]])"
      ]
     },
     "execution_count": 65,
     "metadata": {},
     "output_type": "execute_result"
    }
   ],
   "source": [
    "a = np.arange(1,13).reshape(3,4)\n",
    "a"
   ]
  },
  {
   "cell_type": "code",
   "execution_count": 66,
   "id": "1a316c60-bedb-4ee8-85f9-3e454a9bf4b0",
   "metadata": {},
   "outputs": [
    {
     "data": {
      "text/plain": [
       "array([11])"
      ]
     },
     "execution_count": 66,
     "metadata": {},
     "output_type": "execute_result"
    }
   ],
   "source": [
    "a[2:,2:3]\n",
    "a[2:3,2]"
   ]
  },
  {
   "cell_type": "code",
   "execution_count": 67,
   "id": "7c321a04-4499-4880-b26a-92afe5a14511",
   "metadata": {},
   "outputs": [
    {
     "data": {
      "text/plain": [
       "array([21, 22, 23, 24, 25])"
      ]
     },
     "execution_count": 67,
     "metadata": {},
     "output_type": "execute_result"
    }
   ],
   "source": [
    "arr = np.arange(1,26).reshape(5,5)\n",
    "arr[4]"
   ]
  },
  {
   "cell_type": "markdown",
   "id": "caff50da-6154-48ad-960e-0fbe93820cf6",
   "metadata": {},
   "source": [
    "#### Get the sum of all the numbers in a matrix"
   ]
  },
  {
   "cell_type": "code",
   "execution_count": 68,
   "id": "e1baa187-d3cb-40f4-8a1e-ded9ea1d53ec",
   "metadata": {},
   "outputs": [
    {
     "data": {
      "text/plain": [
       "325"
      ]
     },
     "execution_count": 68,
     "metadata": {},
     "output_type": "execute_result"
    }
   ],
   "source": [
    "arr.sum()"
   ]
  },
  {
   "cell_type": "markdown",
   "id": "93d9bb5f-140a-4158-940f-562a7e6075bf",
   "metadata": {},
   "source": [
    "#### Get the standard deviation of all the numbers in a matrix"
   ]
  },
  {
   "cell_type": "code",
   "execution_count": 69,
   "id": "da2e0a8c-0468-4ac6-b6e3-f1e16ee9f692",
   "metadata": {},
   "outputs": [
    {
     "data": {
      "text/plain": [
       "7.211102550927978"
      ]
     },
     "execution_count": 69,
     "metadata": {},
     "output_type": "execute_result"
    }
   ],
   "source": [
    "arr.std()"
   ]
  },
  {
   "cell_type": "markdown",
   "id": "d3ec2c58-ab53-4ecb-abb3-0fa2c97b4ffa",
   "metadata": {},
   "source": [
    "#### Get the sum of all the columns in a matrix"
   ]
  },
  {
   "cell_type": "code",
   "execution_count": 70,
   "id": "36aeb745-4d3e-4c4a-95da-15a3d9ed2b40",
   "metadata": {},
   "outputs": [
    {
     "data": {
      "text/plain": [
       "array([[ 1,  2,  3,  4,  5],\n",
       "       [ 6,  7,  8,  9, 10],\n",
       "       [11, 12, 13, 14, 15],\n",
       "       [16, 17, 18, 19, 20],\n",
       "       [21, 22, 23, 24, 25]])"
      ]
     },
     "execution_count": 70,
     "metadata": {},
     "output_type": "execute_result"
    }
   ],
   "source": [
    "array = np.arange(1,26).reshape(5,5)\n",
    "array"
   ]
  },
  {
   "cell_type": "code",
   "execution_count": 71,
   "id": "ab9e11ea-6cf9-4a09-939e-373b309b147b",
   "metadata": {},
   "outputs": [
    {
     "data": {
      "text/plain": [
       "array([55, 60, 65, 70, 75])"
      ]
     },
     "execution_count": 71,
     "metadata": {},
     "output_type": "execute_result"
    }
   ],
   "source": [
    "array.sum(axis=0) #sum of columns"
   ]
  },
  {
   "cell_type": "code",
   "execution_count": 72,
   "id": "b6a96b22-3b78-4a96-8ff0-8b04bd025c21",
   "metadata": {},
   "outputs": [
    {
     "data": {
      "text/plain": [
       "array([ 15,  40,  65,  90, 115])"
      ]
     },
     "execution_count": 72,
     "metadata": {},
     "output_type": "execute_result"
    }
   ],
   "source": [
    "array.sum(axis=1) #sum of rows"
   ]
  },
  {
   "cell_type": "markdown",
   "id": "fedfe152-e375-44c8-8b17-5980c4152cab",
   "metadata": {},
   "source": [
    "---"
   ]
  },
  {
   "cell_type": "markdown",
   "id": "d032413d-8647-45da-8423-123da4464e14",
   "metadata": {},
   "source": [
    "## Questions"
   ]
  },
  {
   "cell_type": "markdown",
   "id": "cdea53b5-6090-4f1f-a242-8aac38b63ae6",
   "metadata": {},
   "source": [
    "#### 1. Create 1D, 2D and 3D array"
   ]
  },
  {
   "cell_type": "code",
   "execution_count": 73,
   "id": "63209bbf-7c9c-45a4-a5a4-b77d1e2e55f8",
   "metadata": {},
   "outputs": [
    {
     "data": {
      "text/plain": [
       "array(1)"
      ]
     },
     "execution_count": 73,
     "metadata": {},
     "output_type": "execute_result"
    }
   ],
   "source": [
    "#1D\n",
    "oneD = np.array(1)\n",
    "oneD"
   ]
  },
  {
   "cell_type": "code",
   "execution_count": 74,
   "id": "aa057beb-eeea-4859-9905-68594e07aa98",
   "metadata": {},
   "outputs": [
    {
     "data": {
      "text/plain": [
       "array([[10, 11, 12, 13, 14],\n",
       "       [15, 16, 17, 18, 19]])"
      ]
     },
     "execution_count": 74,
     "metadata": {},
     "output_type": "execute_result"
    }
   ],
   "source": [
    "#2D\n",
    "twoD = np.arange(10,20).reshape(2,5)\n",
    "twoD"
   ]
  },
  {
   "cell_type": "code",
   "execution_count": 75,
   "id": "eaf896ab-94b9-4870-a1e4-084d0d7a6873",
   "metadata": {},
   "outputs": [
    {
     "data": {
      "text/plain": [
       "array([[[10, 11, 12],\n",
       "        [13, 14, 15],\n",
       "        [16, 17, 18]],\n",
       "\n",
       "       [[19, 20, 21],\n",
       "        [22, 23, 24],\n",
       "        [25, 26, 27]],\n",
       "\n",
       "       [[28, 29, 30],\n",
       "        [31, 32, 33],\n",
       "        [34, 35, 36]]])"
      ]
     },
     "execution_count": 75,
     "metadata": {},
     "output_type": "execute_result"
    }
   ],
   "source": [
    "#3D\n",
    "threeD = np.arange(10,37).reshape(3,3,3)\n",
    "threeD"
   ]
  },
  {
   "cell_type": "markdown",
   "id": "e9bfee4b-651c-479a-90cb-094423d75641",
   "metadata": {},
   "source": [
    "#### 2. Print datatype of an array"
   ]
  },
  {
   "cell_type": "code",
   "execution_count": 76,
   "id": "566cf7e9-9e12-4377-984f-078a486d0d02",
   "metadata": {},
   "outputs": [
    {
     "data": {
      "text/plain": [
       "dtype('int64')"
      ]
     },
     "execution_count": 76,
     "metadata": {},
     "output_type": "execute_result"
    }
   ],
   "source": [
    "twoD.dtype"
   ]
  },
  {
   "cell_type": "markdown",
   "id": "22a88422-418f-4b89-b371-960f434707f9",
   "metadata": {},
   "source": [
    "#### 3. Print shape and dimensions of all the three different arrays"
   ]
  },
  {
   "cell_type": "code",
   "execution_count": 93,
   "id": "1c88445b-49ac-4904-9329-7a4aafd39b0a",
   "metadata": {},
   "outputs": [
    {
     "name": "stdout",
     "output_type": "stream",
     "text": [
      "0\n"
     ]
    },
    {
     "data": {
      "text/plain": [
       "()"
      ]
     },
     "execution_count": 93,
     "metadata": {},
     "output_type": "execute_result"
    }
   ],
   "source": [
    "print(oneD.ndim)\n",
    "oneD.shape"
   ]
  },
  {
   "cell_type": "code",
   "execution_count": 92,
   "id": "31a444fd-7843-4d70-ad55-654180fface3",
   "metadata": {},
   "outputs": [
    {
     "name": "stdout",
     "output_type": "stream",
     "text": [
      "2\n"
     ]
    },
    {
     "data": {
      "text/plain": [
       "(2, 5)"
      ]
     },
     "execution_count": 92,
     "metadata": {},
     "output_type": "execute_result"
    }
   ],
   "source": [
    "print(twoD.ndim)\n",
    "twoD.shape"
   ]
  },
  {
   "cell_type": "code",
   "execution_count": 91,
   "id": "8e1be90e-6644-401f-a016-6083b9afc231",
   "metadata": {},
   "outputs": [
    {
     "name": "stdout",
     "output_type": "stream",
     "text": [
      "3\n"
     ]
    },
    {
     "data": {
      "text/plain": [
       "(3, 3, 3)"
      ]
     },
     "execution_count": 91,
     "metadata": {},
     "output_type": "execute_result"
    }
   ],
   "source": [
    "print(threeD.ndim)\n",
    "threeD.shape"
   ]
  },
  {
   "cell_type": "markdown",
   "id": "eea832aa-9d4d-44f4-b1ad-596ee73e23ed",
   "metadata": {},
   "source": [
    "#### 4. Create a 1D array of 12 zeroes"
   ]
  },
  {
   "cell_type": "code",
   "execution_count": 80,
   "id": "1681a16c-c9ce-464f-9d91-b9dc5eba220c",
   "metadata": {},
   "outputs": [
    {
     "data": {
      "text/plain": [
       "array([0., 0., 0., 0., 0., 0., 0., 0., 0., 0., 0., 0.])"
      ]
     },
     "execution_count": 80,
     "metadata": {},
     "output_type": "execute_result"
    }
   ],
   "source": [
    "np.zeros(12)"
   ]
  },
  {
   "cell_type": "markdown",
   "id": "f27f1982-c150-43ba-ad38-b51783b26e52",
   "metadata": {},
   "source": [
    "#### 5. Create a 2D array filled with ones"
   ]
  },
  {
   "cell_type": "code",
   "execution_count": 81,
   "id": "04b6b486-88c5-4e3e-bb74-5e6fc379dda0",
   "metadata": {},
   "outputs": [
    {
     "data": {
      "text/plain": [
       "array([1., 1., 1., 1., 1., 1., 1., 1., 1., 1., 1., 1.])"
      ]
     },
     "execution_count": 81,
     "metadata": {},
     "output_type": "execute_result"
    }
   ],
   "source": [
    "np.ones(12)"
   ]
  },
  {
   "cell_type": "markdown",
   "id": "799a129e-d399-45a4-8c96-4195af3e29d4",
   "metadata": {},
   "source": [
    "#### 6. Create a 1D array named Maths Marks out of 100 having 20 elements"
   ]
  },
  {
   "cell_type": "code",
   "execution_count": 82,
   "id": "0d79c8e2-2bef-44f3-b33b-73012bf2927a",
   "metadata": {},
   "outputs": [
    {
     "data": {
      "text/plain": [
       "array([ 15,  82,  15,  22,  72,  84,  17,  43,  48,  32,  47,  48,  16,\n",
       "        21,  77, 100,  93,   8,  28,  51])"
      ]
     },
     "execution_count": 82,
     "metadata": {},
     "output_type": "execute_result"
    }
   ],
   "source": [
    "mathsMarks = np.random.randint(0, 101, 20)\n",
    "mathsMarks"
   ]
  },
  {
   "cell_type": "markdown",
   "id": "95837bf1-43b6-49f1-9a94-5549feaaa01f",
   "metadata": {},
   "source": [
    "#### 7. Sort the above array in ascending or descending array."
   ]
  },
  {
   "cell_type": "code",
   "execution_count": 94,
   "id": "3ce366a8-a13f-41e6-947f-93c5f6f595f6",
   "metadata": {},
   "outputs": [
    {
     "data": {
      "text/plain": [
       "array([  8,  15,  15,  16,  17,  21,  22,  28,  32,  43,  47,  48,  48,\n",
       "        51,  72,  77,  82,  84,  93, 100])"
      ]
     },
     "execution_count": 94,
     "metadata": {},
     "output_type": "execute_result"
    }
   ],
   "source": [
    "# Ascending order\n",
    "asc = np.sort(mathsMarks)\n",
    "asc"
   ]
  },
  {
   "cell_type": "code",
   "execution_count": 98,
   "id": "ceeeebfe-5011-4eef-824f-6fa50bcf8415",
   "metadata": {},
   "outputs": [
    {
     "name": "stdout",
     "output_type": "stream",
     "text": [
      "[100  93  84  82  77  72  51  48  48  47  43  32  28  22  21  17  16  15\n",
      "  15   8]\n"
     ]
    },
    {
     "data": {
      "text/plain": [
       "array([100,  93,  84,  82,  77,  72,  51,  48,  48,  47,  43,  32,  28,\n",
       "        22,  21,  17,  16,  15,  15,   8])"
      ]
     },
     "execution_count": 98,
     "metadata": {},
     "output_type": "execute_result"
    }
   ],
   "source": [
    "# Descending order\n",
    "dsc = np.sort(mathsMarks)[::-1]\n",
    "print(dsc)\n",
    "\n",
    "# method 2\n",
    "dsc2 = np.flip(asc)\n",
    "dsc2"
   ]
  },
  {
   "cell_type": "markdown",
   "id": "5ce77c98-1ab5-47aa-ac64-cec4aca0be23",
   "metadata": {},
   "source": [
    "#### 8. Create a copy of sorted array to another variable by deep copying"
   ]
  },
  {
   "cell_type": "code",
   "execution_count": 86,
   "id": "404385f0-8fed-43bf-b802-f7f01e97c728",
   "metadata": {},
   "outputs": [
    {
     "data": {
      "text/plain": [
       "array([ 15,  82,  15,  22,  72,  84,  17,  43,  48,  32,  47,  48,  16,\n",
       "        21,  77, 100,  93,   8,  28,  51])"
      ]
     },
     "execution_count": 86,
     "metadata": {},
     "output_type": "execute_result"
    }
   ],
   "source": [
    "marks = mathsMarks.copy()\n",
    "marks"
   ]
  },
  {
   "cell_type": "markdown",
   "id": "31c3ca92-d942-4c09-9ac6-a303d67efdef",
   "metadata": {},
   "source": [
    "#### 9. Create a 2D array of 5x5 which is an identify matrix and then convert to 1D array."
   ]
  },
  {
   "cell_type": "code",
   "execution_count": 112,
   "id": "f8131247-a0a0-4653-bf01-35158a5398df",
   "metadata": {},
   "outputs": [
    {
     "name": "stdout",
     "output_type": "stream",
     "text": [
      "[[1. 0. 0. 0. 0.]\n",
      " [0. 1. 0. 0. 0.]\n",
      " [0. 0. 1. 0. 0.]\n",
      " [0. 0. 0. 1. 0.]\n",
      " [0. 0. 0. 0. 1.]]\n",
      "Method 1:  [1. 0. 0. 0. 0. 0. 1. 0. 0. 0. 0. 0. 1. 0. 0. 0. 0. 0. 1. 0. 0. 0. 0. 0.\n",
      " 1.]\n",
      "Method 2:  [1. 0. 0. 0. 0. 0. 1. 0. 0. 0. 0. 0. 1. 0. 0. 0. 0. 0. 1. 0. 0. 0. 0. 0.\n",
      " 1.]\n",
      "Method 3:  [1. 0. 0. 0. 0. 0. 1. 0. 0. 0. 0. 0. 1. 0. 0. 0. 0. 0. 1. 0. 0. 0. 0. 0.\n",
      " 1.]\n"
     ]
    }
   ],
   "source": [
    "im = np.eye(5)\n",
    "print(im)\n",
    "print(\"Method 1: \",im.ravel())\n",
    "print(\"Method 2: \",im.flatten())\n",
    "print(\"Method 3: \",im.reshape(25))"
   ]
  },
  {
   "cell_type": "markdown",
   "id": "7a4a4be2-a7b9-437d-b6ad-e52c6c87d077",
   "metadata": {},
   "source": [
    "#### 10. Create a 2D array of 3x3. Add one more row to it."
   ]
  },
  {
   "cell_type": "code",
   "execution_count": 115,
   "id": "26fe5b36-13e7-4cc5-9e9a-6913cc623bcd",
   "metadata": {},
   "outputs": [
    {
     "name": "stdout",
     "output_type": "stream",
     "text": [
      "Arr1: \n",
      " [[1 2 3]\n",
      " [4 5 6]\n",
      " [7 8 9]]\n",
      "Arr2: \n",
      " [11 12 13]\n",
      "Added Row: \n",
      " [[ 1  2  3]\n",
      " [ 4  5  6]\n",
      " [ 7  8  9]\n",
      " [11 12 13]]\n"
     ]
    }
   ],
   "source": [
    "mat1 = np.arange(1,10).reshape(3,3)\n",
    "mat2 = np.array([11,12,13])\n",
    "mat = np.vstack((mat1,mat2))\n",
    "print(\"Arr1: \\n\", mat1)\n",
    "print(\"Arr2: \\n\", mat2)\n",
    "print(\"Added Row: \\n\",mat)"
   ]
  },
  {
   "cell_type": "markdown",
   "id": "53859409-b30c-4555-a9f0-5b7337364329",
   "metadata": {},
   "source": [
    "#### 11. Split the above array horizontally and vertically"
   ]
  },
  {
   "cell_type": "code",
   "execution_count": 123,
   "id": "52e49b08-953e-41a9-b599-bf77db39eff1",
   "metadata": {},
   "outputs": [
    {
     "data": {
      "text/plain": [
       "[array([[ 1],\n",
       "        [ 4],\n",
       "        [ 7],\n",
       "        [11]]),\n",
       " array([[ 2],\n",
       "        [ 5],\n",
       "        [ 8],\n",
       "        [12]]),\n",
       " array([[ 3],\n",
       "        [ 6],\n",
       "        [ 9],\n",
       "        [13]])]"
      ]
     },
     "execution_count": 123,
     "metadata": {},
     "output_type": "execute_result"
    }
   ],
   "source": [
    "# Horizontal\n",
    "np.hsplit(mat,3)"
   ]
  },
  {
   "cell_type": "code",
   "execution_count": 117,
   "id": "9dfae7a4-15df-46a6-9975-052645a8065b",
   "metadata": {},
   "outputs": [
    {
     "data": {
      "text/plain": [
       "[array([[1, 2, 3],\n",
       "        [4, 5, 6]]),\n",
       " array([[ 7,  8,  9],\n",
       "        [11, 12, 13]])]"
      ]
     },
     "execution_count": 117,
     "metadata": {},
     "output_type": "execute_result"
    }
   ],
   "source": [
    "# Vertical\n",
    "np.vsplit(mat,2)"
   ]
  },
  {
   "cell_type": "markdown",
   "id": "f3b64ec9-7e23-4694-a71e-c87e5da63b5b",
   "metadata": {},
   "source": [
    "#### 12. Create a 4x4 identity matrix. Add 4 to each element"
   ]
  },
  {
   "cell_type": "code",
   "execution_count": 127,
   "id": "20f9a1b2-6aa9-4f57-a169-87f31463881f",
   "metadata": {},
   "outputs": [
    {
     "data": {
      "text/plain": [
       "array([[5., 4., 4., 4.],\n",
       "       [4., 5., 4., 4.],\n",
       "       [4., 4., 5., 4.],\n",
       "       [4., 4., 4., 5.]])"
      ]
     },
     "execution_count": 127,
     "metadata": {},
     "output_type": "execute_result"
    }
   ],
   "source": [
    "iMat = np.eye(4)\n",
    "iMat += 4\n",
    "iMat"
   ]
  },
  {
   "cell_type": "markdown",
   "id": "68add8f2-b179-4609-8b00-3a000ed34891",
   "metadata": {},
   "source": [
    "#### 13. Create 1-D array. Initialize with floating point values. Display its ceil, floor and round (with 2 decimal's)."
   ]
  },
  {
   "cell_type": "code",
   "execution_count": 230,
   "id": "b16b4540-a76f-4600-970e-e607365b5077",
   "metadata": {},
   "outputs": [
    {
     "data": {
      "text/plain": [
       "array([4.80241065, 8.91385521, 1.15814568])"
      ]
     },
     "execution_count": 230,
     "metadata": {},
     "output_type": "execute_result"
    }
   ],
   "source": [
    "arr2 = np.array([2.45, 5.69, 7.83])\n",
    "arr = np.random.uniform(1,9,3)\n",
    "arr"
   ]
  },
  {
   "cell_type": "code",
   "execution_count": 231,
   "id": "dd83a30e-5621-47d1-8ac4-7b96fd315b1a",
   "metadata": {},
   "outputs": [
    {
     "data": {
      "text/plain": [
       "array([5., 9., 2.])"
      ]
     },
     "execution_count": 231,
     "metadata": {},
     "output_type": "execute_result"
    }
   ],
   "source": [
    "np.ceil(arr)"
   ]
  },
  {
   "cell_type": "code",
   "execution_count": 232,
   "id": "3177c76a-bc2d-445f-93a1-017c64b5dd24",
   "metadata": {},
   "outputs": [
    {
     "data": {
      "text/plain": [
       "array([4., 8., 1.])"
      ]
     },
     "execution_count": 232,
     "metadata": {},
     "output_type": "execute_result"
    }
   ],
   "source": [
    "np.floor(arr)"
   ]
  },
  {
   "cell_type": "code",
   "execution_count": 233,
   "id": "89c1bace-f0fc-4242-835b-4f5cdd09abe1",
   "metadata": {},
   "outputs": [
    {
     "data": {
      "text/plain": [
       "array([5., 9., 1.])"
      ]
     },
     "execution_count": 233,
     "metadata": {},
     "output_type": "execute_result"
    }
   ],
   "source": [
    "np.round(arr)"
   ]
  },
  {
   "cell_type": "markdown",
   "id": "37afed23-a97b-4e8a-b14f-7fec4b699d34",
   "metadata": {},
   "source": [
    "#### 14. Create 5x5 matrix. Display min, max, variance and standard deviation column-wise.\n"
   ]
  },
  {
   "cell_type": "code",
   "execution_count": 147,
   "id": "2fc020a3-b990-4609-ba73-ed53a33416c9",
   "metadata": {},
   "outputs": [
    {
     "data": {
      "text/plain": [
       "array([[29, 23, 79, 80,  8],\n",
       "       [ 6, 52, 49,  1, 95],\n",
       "       [11, 30, 58, 18, 18],\n",
       "       [91, 46, 60, 66, 29],\n",
       "       [42, 53, 10, 13, 62]])"
      ]
     },
     "execution_count": 147,
     "metadata": {},
     "output_type": "execute_result"
    }
   ],
   "source": [
    "matrix = np.random.randint(1, 100, (5, 5))\n",
    "matrix"
   ]
  },
  {
   "cell_type": "code",
   "execution_count": 148,
   "id": "171b921a-4c90-423b-993c-0f6890712f49",
   "metadata": {},
   "outputs": [
    {
     "name": "stdout",
     "output_type": "stream",
     "text": [
      "Minimum:\n",
      " [ 6 23 10  1  8]\n",
      "Maximum:\n",
      " [91 53 79 80 95]\n",
      "Variance:\n",
      " [ 926.96  146.96  519.76  982.64 1021.84]\n",
      "Standard deviation:\n",
      " [30.4460178  12.12270597 22.79824555 31.34708918 31.96623218]\n"
     ]
    }
   ],
   "source": [
    "# Calculate column-wise statistics\n",
    "col_min = np.amin(matrix, axis=0)\n",
    "col_max = np.amax(matrix, axis=0)\n",
    "col_variance = np.var(matrix, axis=0)\n",
    "col_std = np.std(matrix, axis=0)\n",
    "\n",
    "print(\"Minimum:\\n\", col_min)\n",
    "print(\"Maximum:\\n\", col_max)\n",
    "print(\"Variance:\\n\", col_variance)\n",
    "print(\"Standard deviation:\\n\", col_std)"
   ]
  },
  {
   "cell_type": "markdown",
   "id": "4393d637-235e-49c7-9e5c-f885caaa8997",
   "metadata": {},
   "source": [
    "#### 15. Create a null vector of size 10 with 6th value filled with 200.\n"
   ]
  },
  {
   "cell_type": "code",
   "execution_count": 221,
   "id": "b9f0ae26-8994-4e3a-b91f-d6aa26e4638a",
   "metadata": {},
   "outputs": [
    {
     "name": "stdout",
     "output_type": "stream",
     "text": [
      "[ nan  nan  nan  nan  nan 200.  nan  nan  nan  nan]\n"
     ]
    }
   ],
   "source": [
    "nullVector = np.empty(10)\n",
    "nullVector[0:] = 'NaN'\n",
    "nullVector[5] = 200\n",
    "print(nullVector)"
   ]
  },
  {
   "cell_type": "markdown",
   "id": "bee739c5-2595-4683-b4f0-514f699aebf1",
   "metadata": {},
   "source": [
    "#### 16. Create a 1-D Array/Vector with values ranging from 100 to 150 in sequence.\n"
   ]
  },
  {
   "cell_type": "code",
   "execution_count": 226,
   "id": "cba942d4-d6b6-446d-b29a-d18117b9a12a",
   "metadata": {},
   "outputs": [
    {
     "name": "stdout",
     "output_type": "stream",
     "text": [
      "[100 101 102 103 104 105 106 107 108 109 110 111 112 113 114 115 116 117\n",
      " 118 119 120 121 122 123 124 125 126 127 128 129 130 131 132 133 134 135\n",
      " 136 137 138 139 140 141 142 143 144 145 146 147 148 149 150]\n"
     ]
    }
   ],
   "source": [
    "arr = np.arange(100, 151)\n",
    "print(arr)"
   ]
  },
  {
   "cell_type": "markdown",
   "id": "4a8f9d8a-f612-4f53-9006-161556785519",
   "metadata": {},
   "source": [
    "#### 17. Reverse the above vector.\n"
   ]
  },
  {
   "cell_type": "code",
   "execution_count": 225,
   "id": "af029146-9221-4768-a5e8-f8e9a7df805b",
   "metadata": {},
   "outputs": [
    {
     "name": "stdout",
     "output_type": "stream",
     "text": [
      "[150 149 148 147 146 145 144 143 142 141 140 139 138 137 136 135 134 133\n",
      " 132 131 130 129 128 127 126 125 124 123 122 121 120 119 118 117 116 115\n",
      " 114 113 112 111 110 109 108 107 106 105 104 103 102 101 100]\n"
     ]
    }
   ],
   "source": [
    "print(arr[::-1])"
   ]
  },
  {
   "cell_type": "markdown",
   "id": "d71bcf9a-9b2f-4ae4-93fa-90625f516dcc",
   "metadata": {},
   "source": [
    "#### 18. Create a 5x5 matrix with values ranging from 0-24 using some function.\n"
   ]
  },
  {
   "cell_type": "code",
   "execution_count": 242,
   "id": "825756b9-62f3-4219-a0b5-255f5c4c2ec7",
   "metadata": {},
   "outputs": [
    {
     "name": "stdout",
     "output_type": "stream",
     "text": [
      "[[ 0  1  2  3  4]\n",
      " [ 5  6  7  8  9]\n",
      " [10 11 12 13 14]\n",
      " [15 16 17 18 19]\n",
      " [20 21 22 23 24]]\n"
     ]
    }
   ],
   "source": [
    "def matrix(start, end, size):\n",
    "    return np.linspace(start, end, size, dtype=int)\n",
    "mat = matrix(0, 24, 25).reshape(5, 5)\n",
    "print(mat)"
   ]
  },
  {
   "cell_type": "markdown",
   "id": "d57be694-0d91-4b77-a59a-a06970df0246",
   "metadata": {},
   "source": [
    "#### 19. Find indices of nonzero elements from (1,0,2,0,0,4,0,8]\n"
   ]
  },
  {
   "cell_type": "code",
   "execution_count": 223,
   "id": "fe4293c0-c5ee-40c8-b29c-65c3f850a809",
   "metadata": {},
   "outputs": [
    {
     "name": "stdout",
     "output_type": "stream",
     "text": [
      "(array([0, 2, 5, 7]),)\n"
     ]
    }
   ],
   "source": [
    "array = np.array([1, 0, 2, 0, 0, 4, 0, 8])\n",
    "nonZero = np.where(array != 0) #where()\n",
    "print(nonZero)"
   ]
  },
  {
   "cell_type": "code",
   "execution_count": 222,
   "id": "58f56c11-14fe-4a5e-9d0a-0533a2dd7fd6",
   "metadata": {},
   "outputs": [
    {
     "name": "stdout",
     "output_type": "stream",
     "text": [
      "[0 2 5 7]\n"
     ]
    }
   ],
   "source": [
    "nonZeroo = np.nonzero(array)[0] #nonzero()\n",
    "print(nonZeroo)"
   ]
  },
  {
   "cell_type": "markdown",
   "id": "7aba8cb5-b7e4-4d3b-ab8a-33a7768de020",
   "metadata": {},
   "source": [
    "#### 20. Create a 10x10 matrix with 1 on the borders and 0 inside.\n"
   ]
  },
  {
   "cell_type": "code",
   "execution_count": 248,
   "id": "df6cae6c-efed-4ab3-8c1b-e44533bc8ba6",
   "metadata": {},
   "outputs": [
    {
     "name": "stdout",
     "output_type": "stream",
     "text": [
      "[[1. 1. 1. 1. 1. 1. 1. 1. 1. 1.]\n",
      " [1. 0. 0. 0. 0. 0. 0. 0. 0. 1.]\n",
      " [1. 0. 0. 0. 0. 0. 0. 0. 0. 1.]\n",
      " [1. 0. 0. 0. 0. 0. 0. 0. 0. 1.]\n",
      " [1. 0. 0. 0. 0. 0. 0. 0. 0. 1.]\n",
      " [1. 0. 0. 0. 0. 0. 0. 0. 0. 1.]\n",
      " [1. 0. 0. 0. 0. 0. 0. 0. 0. 1.]\n",
      " [1. 0. 0. 0. 0. 0. 0. 0. 0. 1.]\n",
      " [1. 0. 0. 0. 0. 0. 0. 0. 0. 1.]\n",
      " [1. 1. 1. 1. 1. 1. 1. 1. 1. 1.]]\n"
     ]
    }
   ],
   "source": [
    "matrix = np.ones((10, 10))\n",
    "matrix[1:-1, 1:-1] = 0  # Set inner elements to 0\n",
    "print(matrix)"
   ]
  },
  {
   "cell_type": "code",
   "execution_count": 254,
   "id": "846489da-dde1-4c1a-8bc2-8da4cd819ae6",
   "metadata": {},
   "outputs": [
    {
     "name": "stdout",
     "output_type": "stream",
     "text": [
      "[[1. 1. 1. 1. 1. 1. 1. 1. 1. 1.]\n",
      " [1. 0. 0. 0. 0. 0. 0. 0. 0. 1.]\n",
      " [1. 0. 0. 0. 0. 0. 0. 0. 0. 1.]\n",
      " [1. 0. 0. 0. 0. 0. 0. 0. 0. 1.]\n",
      " [1. 0. 0. 0. 0. 0. 0. 0. 0. 1.]\n",
      " [1. 0. 0. 0. 0. 0. 0. 0. 0. 1.]\n",
      " [1. 0. 0. 0. 0. 0. 0. 0. 0. 1.]\n",
      " [1. 0. 0. 0. 0. 0. 0. 0. 0. 1.]\n",
      " [1. 0. 0. 0. 0. 0. 0. 0. 0. 1.]\n",
      " [1. 1. 1. 1. 1. 1. 1. 1. 1. 1.]]\n"
     ]
    }
   ],
   "source": [
    "matt = np.zeros((10,10))\n",
    "matt[0,:] = 1\n",
    "matt[-1,:] = 1\n",
    "matt[:,0] = 1\n",
    "matt[:,-1] = 1\n",
    "print(matt)"
   ]
  },
  {
   "cell_type": "markdown",
   "id": "fe78cdf0-c5e6-421a-a858-505c42701610",
   "metadata": {},
   "source": [
    "#### 21. Create 8x8 matrix and fill with 1 and 0 in checkerboard pattern.\n"
   ]
  },
  {
   "cell_type": "code",
   "execution_count": 243,
   "id": "1498d624-3aab-4f1e-8025-c989724d8354",
   "metadata": {},
   "outputs": [
    {
     "name": "stdout",
     "output_type": "stream",
     "text": [
      "[[0 1 0 1 0 1 0 1]\n",
      " [1 0 1 0 1 0 1 0]\n",
      " [0 1 0 1 0 1 0 1]\n",
      " [1 0 1 0 1 0 1 0]\n",
      " [0 1 0 1 0 1 0 1]\n",
      " [1 0 1 0 1 0 1 0]\n",
      " [0 1 0 1 0 1 0 1]\n",
      " [1 0 1 0 1 0 1 0]]\n"
     ]
    }
   ],
   "source": [
    "def checkerboard(shape):\n",
    "    return np.indices(shape).sum(axis=0) % 2\n",
    "print(checkerboard((8,8)))"
   ]
  },
  {
   "cell_type": "code",
   "execution_count": 7,
   "id": "d3eba797-3086-4591-949f-94ba3967cf8f",
   "metadata": {},
   "outputs": [
    {
     "name": "stdout",
     "output_type": "stream",
     "text": [
      "[[0 1 0 1 0 1 0 1]\n",
      " [1 0 1 0 1 0 1 0]\n",
      " [0 1 0 1 0 1 0 1]\n",
      " [1 0 1 0 1 0 1 0]\n",
      " [0 1 0 1 0 1 0 1]\n",
      " [1 0 1 0 1 0 1 0]\n",
      " [0 1 0 1 0 1 0 1]\n",
      " [1 0 1 0 1 0 1 0]]\n"
     ]
    }
   ],
   "source": [
    "import numpy as np\n",
    "a = np.ones((8,8), dtype=int)\n",
    "a[::2, ::2] = 0\n",
    "a[1::2, 1::2] = 0\n",
    "print(a)"
   ]
  },
  {
   "cell_type": "markdown",
   "id": "63517276-ccd2-4f24-a3f8-36dd789c124f",
   "metadata": {},
   "source": [
    "#### 22. Create two 3x3 matrix with random integer values. Perform matrix addition, multiplication and subtraction"
   ]
  },
  {
   "cell_type": "code",
   "execution_count": 158,
   "id": "c17719af-16c2-471e-a55f-cc128d195f02",
   "metadata": {},
   "outputs": [
    {
     "name": "stdout",
     "output_type": "stream",
     "text": [
      "[[5 9 7]\n",
      " [4 8 8]\n",
      " [2 9 5]]\n",
      "[[3 5 1]\n",
      " [7 4 1]\n",
      " [9 6 5]]\n"
     ]
    }
   ],
   "source": [
    "mat1 = np.random.randint(1,10, (3,3))\n",
    "mat2 = np.random.randint(1,10, (3,3))\n",
    "print(mat1)\n",
    "print(mat2)"
   ]
  },
  {
   "cell_type": "code",
   "execution_count": 257,
   "id": "4f1e93bd-3a77-4e3a-bc8e-5c957402a88a",
   "metadata": {},
   "outputs": [
    {
     "data": {
      "text/plain": [
       "array([[ 8, 14,  8],\n",
       "       [11, 12,  9],\n",
       "       [11, 15, 10]])"
      ]
     },
     "execution_count": 257,
     "metadata": {},
     "output_type": "execute_result"
    }
   ],
   "source": [
    "sum = mat1 + mat2\n",
    "sum"
   ]
  },
  {
   "cell_type": "code",
   "execution_count": 261,
   "id": "6ef3e612-bfc5-4c5e-912a-0c62a2b4cbfa",
   "metadata": {},
   "outputs": [
    {
     "data": {
      "text/plain": [
       "array([[141, 103,  49],\n",
       "       [140, 100,  52],\n",
       "       [114,  76,  36]])"
      ]
     },
     "execution_count": 261,
     "metadata": {},
     "output_type": "execute_result"
    }
   ],
   "source": [
    "product = mat1 @ mat2\n",
    "# product = np.dot(mat1,mat2)\n",
    "product"
   ]
  },
  {
   "cell_type": "code",
   "execution_count": 161,
   "id": "c66be7c8-a9e3-479e-800a-16b4e568d8e0",
   "metadata": {},
   "outputs": [
    {
     "data": {
      "text/plain": [
       "array([[ 2,  4,  6],\n",
       "       [-3,  4,  7],\n",
       "       [-7,  3,  0]])"
      ]
     },
     "execution_count": 161,
     "metadata": {},
     "output_type": "execute_result"
    }
   ],
   "source": [
    "diff = mat1 - mat2\n",
    "diff"
   ]
  },
  {
   "cell_type": "code",
   "execution_count": 240,
   "id": "bec0ef33-3cef-469f-b9ee-68a3297f830f",
   "metadata": {},
   "outputs": [
    {
     "data": {
      "text/plain": [
       "array([[nan, nan, nan, nan, nan],\n",
       "       [nan, nan, nan, nan, nan]])"
      ]
     },
     "execution_count": 240,
     "metadata": {},
     "output_type": "execute_result"
    }
   ],
   "source": [
    "np.full((2,5), np.nan)"
   ]
  }
 ],
 "metadata": {
  "kernelspec": {
   "display_name": "Python 3 (ipykernel)",
   "language": "python",
   "name": "python3"
  },
  "language_info": {
   "codemirror_mode": {
    "name": "ipython",
    "version": 3
   },
   "file_extension": ".py",
   "mimetype": "text/x-python",
   "name": "python",
   "nbconvert_exporter": "python",
   "pygments_lexer": "ipython3",
   "version": "3.11.3"
  }
 },
 "nbformat": 4,
 "nbformat_minor": 5
}
